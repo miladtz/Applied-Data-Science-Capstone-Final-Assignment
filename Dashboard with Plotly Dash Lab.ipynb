{
    "cells": [
        {
            "cell_type": "code",
            "execution_count": 5,
            "metadata": {},
            "outputs": [
                {
                    "name": "stdout",
                    "output_type": "stream",
                    "text": "Requirement already satisfied: dash in /opt/conda/envs/Python-3.8-main/lib/python3.8/site-packages (2.0.0)\nRequirement already satisfied: dash-table==5.0.0 in /opt/conda/envs/Python-3.8-main/lib/python3.8/site-packages (from dash) (5.0.0)\nRequirement already satisfied: dash-core-components==2.0.0 in /opt/conda/envs/Python-3.8-main/lib/python3.8/site-packages (from dash) (2.0.0)\nRequirement already satisfied: dash-html-components==2.0.0 in /opt/conda/envs/Python-3.8-main/lib/python3.8/site-packages (from dash) (2.0.0)\nRequirement already satisfied: flask-compress in /opt/conda/envs/Python-3.8-main/lib/python3.8/site-packages (from dash) (1.10.1)\nRequirement already satisfied: plotly>=5.0.0 in /opt/conda/envs/Python-3.8-main/lib/python3.8/site-packages (from dash) (5.3.1)\nRequirement already satisfied: Flask>=1.0.4 in /opt/conda/envs/Python-3.8-main/lib/python3.8/site-packages (from dash) (2.0.1)\nRequirement already satisfied: click>=7.1.2 in /opt/conda/envs/Python-3.8-main/lib/python3.8/site-packages (from Flask>=1.0.4->dash) (7.1.2)\nRequirement already satisfied: Jinja2>=3.0 in /opt/conda/envs/Python-3.8-main/lib/python3.8/site-packages (from Flask>=1.0.4->dash) (3.0.0)\nRequirement already satisfied: itsdangerous>=2.0 in /opt/conda/envs/Python-3.8-main/lib/python3.8/site-packages (from Flask>=1.0.4->dash) (2.0.1)\nRequirement already satisfied: Werkzeug>=2.0 in /opt/conda/envs/Python-3.8-main/lib/python3.8/site-packages (from Flask>=1.0.4->dash) (2.0.1)\nRequirement already satisfied: MarkupSafe>=2.0.0rc2 in /opt/conda/envs/Python-3.8-main/lib/python3.8/site-packages (from Jinja2>=3.0->Flask>=1.0.4->dash) (2.0.1)\nRequirement already satisfied: six in /opt/conda/envs/Python-3.8-main/lib/python3.8/site-packages (from plotly>=5.0.0->dash) (1.15.0)\nRequirement already satisfied: tenacity>=6.2.0 in /opt/conda/envs/Python-3.8-main/lib/python3.8/site-packages (from plotly>=5.0.0->dash) (8.0.1)\nRequirement already satisfied: brotli in /opt/conda/envs/Python-3.8-main/lib/python3.8/site-packages (from flask-compress->dash) (1.0.9)\n"
                }
            ],
            "source": "!pip install dash"
        },
        {
            "cell_type": "code",
            "execution_count": 6,
            "metadata": {},
            "outputs": [],
            "source": "# Import required libraries\nimport pandas as pd\nimport dash\nimport dash_html_components as html\nimport dash_core_components as dcc\nfrom dash.dependencies import Input, Output\nimport plotly.express as px"
        },
        {
            "cell_type": "code",
            "execution_count": 15,
            "metadata": {},
            "outputs": [
                {
                    "data": {
                        "text/html": "<div>\n<style scoped>\n    .dataframe tbody tr th:only-of-type {\n        vertical-align: middle;\n    }\n\n    .dataframe tbody tr th {\n        vertical-align: top;\n    }\n\n    .dataframe thead th {\n        text-align: right;\n    }\n</style>\n<table border=\"1\" class=\"dataframe\">\n  <thead>\n    <tr style=\"text-align: right;\">\n      <th></th>\n      <th>Unnamed: 0</th>\n      <th>Flight Number</th>\n      <th>Launch Site</th>\n      <th>Mission Outcome</th>\n      <th>class</th>\n      <th>Payload Mass (kg)</th>\n      <th>Booster Version</th>\n      <th>Booster Version Category</th>\n    </tr>\n  </thead>\n  <tbody>\n    <tr>\n      <th>0</th>\n      <td>0</td>\n      <td>1</td>\n      <td>CCAFS LC-40</td>\n      <td>Success</td>\n      <td>0</td>\n      <td>0.0</td>\n      <td>F9 v1.0  B0003</td>\n      <td>v1.0</td>\n    </tr>\n    <tr>\n      <th>1</th>\n      <td>1</td>\n      <td>2</td>\n      <td>CCAFS LC-40</td>\n      <td>Success</td>\n      <td>0</td>\n      <td>0.0</td>\n      <td>F9 v1.0  B0004</td>\n      <td>v1.0</td>\n    </tr>\n    <tr>\n      <th>2</th>\n      <td>2</td>\n      <td>3</td>\n      <td>CCAFS LC-40</td>\n      <td>Success</td>\n      <td>0</td>\n      <td>525.0</td>\n      <td>F9 v1.0  B0005</td>\n      <td>v1.0</td>\n    </tr>\n    <tr>\n      <th>3</th>\n      <td>3</td>\n      <td>4</td>\n      <td>CCAFS LC-40</td>\n      <td>Success</td>\n      <td>0</td>\n      <td>500.0</td>\n      <td>F9 v1.0  B0006</td>\n      <td>v1.0</td>\n    </tr>\n    <tr>\n      <th>4</th>\n      <td>4</td>\n      <td>5</td>\n      <td>CCAFS LC-40</td>\n      <td>Success</td>\n      <td>0</td>\n      <td>677.0</td>\n      <td>F9 v1.0  B0007</td>\n      <td>v1.0</td>\n    </tr>\n  </tbody>\n</table>\n</div>",
                        "text/plain": "   Unnamed: 0  Flight Number  Launch Site Mission Outcome  class  \\\n0           0              1  CCAFS LC-40         Success      0   \n1           1              2  CCAFS LC-40         Success      0   \n2           2              3  CCAFS LC-40         Success      0   \n3           3              4  CCAFS LC-40         Success      0   \n4           4              5  CCAFS LC-40         Success      0   \n\n   Payload Mass (kg) Booster Version Booster Version Category  \n0                0.0  F9 v1.0  B0003                     v1.0  \n1                0.0  F9 v1.0  B0004                     v1.0  \n2              525.0  F9 v1.0  B0005                     v1.0  \n3              500.0  F9 v1.0  B0006                     v1.0  \n4              677.0  F9 v1.0  B0007                     v1.0  "
                    },
                    "execution_count": 15,
                    "metadata": {},
                    "output_type": "execute_result"
                }
            ],
            "source": "# Read the airline data into pandas dataframe\nspacex_df = pd.read_csv('https://cf-courses-data.s3.us.cloud-object-storage.appdomain.cloud/IBM-DS0321EN-SkillsNetwork/datasets/spacex_launch_dash.csv')\nspacex_df.head()"
        },
        {
            "cell_type": "code",
            "execution_count": 16,
            "metadata": {},
            "outputs": [],
            "source": "max_payload = spacex_df['Payload Mass (kg)'].max()\nmin_payload = spacex_df['Payload Mass (kg)'].min()"
        },
        {
            "cell_type": "code",
            "execution_count": 17,
            "metadata": {},
            "outputs": [],
            "source": "# Create a dash application\napp = dash.Dash(__name__)\n\nuniquelaunchsites = spacex_df['Launch Site'].unique().tolist()\nlsites = []\nlsites.append({'label': 'All Sites', 'value': 'All Sites'})\nfor site in uniquelaunchsites:\n lsites.append({'label': site, 'value': site})"
        },
        {
            "cell_type": "code",
            "execution_count": null,
            "metadata": {},
            "outputs": [
                {
                    "name": "stdout",
                    "output_type": "stream",
                    "text": "Dash is running on http://127.0.0.1:8050/\n\nDash is running on http://127.0.0.1:8050/\n\nDash is running on http://127.0.0.1:8050/\n\n * Serving Flask app '__main__' (lazy loading)\n * Environment: production\n\u001b[31m   WARNING: This is a development server. Do not use it in a production deployment.\u001b[0m\n\u001b[2m   Use a production WSGI server instead.\u001b[0m\n * Debug mode: off\n"
                },
                {
                    "name": "stderr",
                    "output_type": "stream",
                    "text": " * Running on http://127.0.0.1:8050/ (Press CTRL+C to quit)\n"
                }
            ],
            "source": "# Create an app layout\napp.layout = html.Div(children=[html.H1('SpaceX Launch Records Dashboard',\n                                        style={'textAlign': 'center', 'color': '#503D36',\n                                               'font-size': 40}),\n                                # TASK 1: Add a dropdown list to enable Launch Site selection\n                                # The default select value is for ALL sites\n                                dcc.Dropdown(id='site_dropdown',options=lsites,placeholder='Select a Launch Site here', searchable = True , value = 'All Sites'),\n                                html.Br(),\n                                # TASK 2: Add a pie chart to show the total successful launches count for all sites\n                                # If a specific launch site was selected, show the Success vs. Failed counts for the site\n                                html.Div(dcc.Graph(id='success-pie-chart')),\n                                html.Br(),\n\n                                html.P(\"Payload range (Kg):\"),\n                                # TASK 3: Add a slider to select payload range\n                                #dcc.RangeSlider(id='payload-slider',...)\n                                dcc.RangeSlider(\n                                    id='payload_slider',\n                                    min=0,\n                                    max=10000,\n                                    step=1000,  \n                                    marks = {\n                                            0: '0 kg',\n                                            1000: '1000 kg',\n                                            2000: '2000 kg',\n                                            3000: '3000 kg',\n                                            4000: '4000 kg',\n                                            5000: '5000 kg',\n                                            6000: '6000 kg',  \n                                            7000: '7000 kg',\n                                            8000: '8000 kg',\n                                            9000: '9000 kg',\n                                            10000: '10000 kg'                                         \n                                    },\n\n                                    value=[min_payload,max_payload]\n                                ),\n                                # TASK 4: Add a scatter chart to show the correlation between payload and launch success\n                                html.Div(dcc.Graph(id='success-payload-scatter-chart')),\n                                ])\n\n# TASK 2:\n# Add a callback function for `site-dropdown` as input, `success-pie-chart` as output\n# Function decorator to specify function input and output\n@app.callback(\n     Output(component_id='success-pie-chart',component_property='figure'),\n     [Input(component_id='site_dropdown',component_property='value')]               \n)\ndef update_graph(site_dropdown):\n    if (site_dropdown == 'All Sites'):\n        df  = spacex_df[spacex_df['class'] == 1]\n        fig = px.pie(df, names = 'Launch Site',hole=.3,title = 'Total Success Launches By all sites')\n    else:\n        df  = spacex_df.loc[spacex_df['Launch Site'] == site_dropdown]\n        fig = px.pie(df, names = 'class',hole=.3,title = 'Total Success Launches for site '+site_dropdown)\n    return fig\n   # else:\n    #     return the outcomes piechart for a selected site\n# TASK 4:\n# Add a callback function for `site-dropdown` and `payload-slider` as inputs, `success-payload-scatter-chart` as output\n@app.callback(\n     Output(component_id='success-payload-scatter-chart',component_property='figure'),\n     [Input(component_id='site_dropdown',component_property='value'),Input(component_id=\"payload_slider\", component_property=\"value\")]               \n)\ndef update_scattergraph(site_dropdown,payload_slider):\n    if site_dropdown == 'All Sites':\n        low, high = payload_slider\n        df  = spacex_df\n        mask = (df['Payload Mass (kg)'] > low) & (df['Payload Mass (kg)'] < high)\n        fig = px.scatter(\n            df[mask], x=\"Payload Mass (kg)\", y=\"class\", \n            color=\"Booster Version\",\n            size='Payload Mass (kg)',\n            hover_data=['Payload Mass (kg)'])\n    else:\n        low, high = payload_slider\n        df  = spacex_df.loc[spacex_df['Launch Site'] == site_dropdown]\n        mask = (df['Payload Mass (kg)'] > low) & (df['Payload Mass (kg)'] < high)\n        fig = px.scatter(\n            df[mask], x=\"Payload Mass (kg)\", y=\"class\", \n            color=\"Booster Version\",\n            size='Payload Mass (kg)',\n            hover_data=['Payload Mass (kg)'])\n    return fig\n\n# Run the app\nif __name__ == '__main__':\n    app.run_server()"
        }
    ],
    "metadata": {
        "kernelspec": {
            "display_name": "Python 3.8",
            "language": "python",
            "name": "python3"
        },
        "language_info": {
            "codemirror_mode": {
                "name": "ipython",
                "version": 3
            },
            "file_extension": ".py",
            "mimetype": "text/x-python",
            "name": "python",
            "nbconvert_exporter": "python",
            "pygments_lexer": "ipython3",
            "version": "3.8.11"
        }
    },
    "nbformat": 4,
    "nbformat_minor": 1
}